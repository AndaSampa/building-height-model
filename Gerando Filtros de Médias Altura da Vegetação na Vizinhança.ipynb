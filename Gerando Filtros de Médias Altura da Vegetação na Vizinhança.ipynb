{
 "cells": [
  {
   "cell_type": "code",
   "execution_count": 1,
   "metadata": {},
   "outputs": [],
   "source": [
    "import rasterio\n",
    "import numpy as np\n",
    "from rasterio.enums import Resampling\n",
    "from rasterio.windows import Window\n",
    "import math\n",
    "import zarr"
   ]
  },
  {
   "cell_type": "code",
   "execution_count": 13,
   "metadata": {},
   "outputs": [],
   "source": [
    "vhm = zarr.open('../tmp/bhm.zarr')"
   ]
  },
  {
   "cell_type": "code",
   "execution_count": 14,
   "metadata": {},
   "outputs": [
    {
     "data": {
      "text/plain": [
       "(100000, 160000)"
      ]
     },
     "execution_count": 14,
     "metadata": {},
     "output_type": "execute_result"
    }
   ],
   "source": [
    "vhm.shape"
   ]
  },
  {
   "cell_type": "code",
   "execution_count": 17,
   "metadata": {},
   "outputs": [
    {
     "data": {
      "text/plain": [
       "dtype('float32')"
      ]
     },
     "execution_count": 17,
     "metadata": {},
     "output_type": "execute_result"
    }
   ],
   "source": [
    "vhm.dtype"
   ]
  },
  {
   "cell_type": "code",
   "execution_count": null,
   "metadata": {},
   "outputs": [],
   "source": [
    "10000"
   ]
  },
  {
   "cell_type": "code",
   "execution_count": null,
   "metadata": {},
   "outputs": [],
   "source": []
  },
  {
   "cell_type": "code",
   "execution_count": null,
   "metadata": {},
   "outputs": [],
   "source": []
  },
  {
   "cell_type": "code",
   "execution_count": null,
   "metadata": {},
   "outputs": [],
   "source": []
  },
  {
   "cell_type": "code",
   "execution_count": null,
   "metadata": {},
   "outputs": [],
   "source": []
  },
  {
   "cell_type": "code",
   "execution_count": null,
   "metadata": {},
   "outputs": [],
   "source": []
  },
  {
   "cell_type": "code",
   "execution_count": 2,
   "metadata": {},
   "outputs": [],
   "source": [
    "src = rasterio.open('tmp/0-VHM-sao-paulo-city.tif')"
   ]
  },
  {
   "cell_type": "code",
   "execution_count": 3,
   "metadata": {},
   "outputs": [],
   "source": [
    "profile = src.profile"
   ]
  },
  {
   "cell_type": "code",
   "execution_count": 4,
   "metadata": {},
   "outputs": [],
   "source": [
    "downscale = 2\n",
    "upscale = 1\n",
    "chunk_size = 20000\n",
    "w_scaled = math.floor(src.width / upscale)\n",
    "h_scaled = math.floor(src.height / upscale)\n",
    "w_size = math.ceil(w_scaled/chunk_size)\n",
    "h_size = math.ceil(h_scaled/chunk_size)"
   ]
  },
  {
   "cell_type": "code",
   "execution_count": 5,
   "metadata": {},
   "outputs": [],
   "source": [
    "vhm = np.ones((src.count, int(src.height / downscale), int(src.width / downscale)), dtype='uint8')"
   ]
  },
  {
   "cell_type": "code",
   "execution_count": 7,
   "metadata": {},
   "outputs": [
    {
     "ename": "",
     "evalue": "",
     "output_type": "error",
     "traceback": [
      "\u001b[1;31mThe Kernel crashed while executing code in the the current cell or a previous cell. Please review the code in the cell(s) to identify a possible cause of the failure. Click <a href='https://aka.ms/vscodeJupyterKernelCrash'>here</a> for more info. View Jupyter <a href='command:jupyter.viewOutput'>log</a> for further details."
     ]
    },
    {
     "ename": "",
     "evalue": "",
     "output_type": "error",
     "traceback": [
      "\u001b[1;31mCanceled future for execute_request message before replies were done"
     ]
    }
   ],
   "source": [
    "# Gerando raster de 1m com 8bits\n",
    "\n",
    "# resample data to target shape\n",
    "\n",
    "data = src.read(\n",
    "    out=vhm,\n",
    "    # out_shape=(\n",
    "    #     src.count,\n",
    "    #     int(src.height / downscale),\n",
    "    #     int(src.width / downscale)\n",
    "    # ),\n",
    "    resampling=Resampling.average\n",
    ")\n",
    "\n",
    "# scale image transform\n",
    "transform = src.transform * src.transform.scale(\n",
    "    (src.width * data.shape[-1]),\n",
    "    (src.height * data.shape[-2])\n",
    ")"
   ]
  },
  {
   "cell_type": "code",
   "execution_count": null,
   "metadata": {},
   "outputs": [],
   "source": [
    "vhm.shape, vhm.dtype"
   ]
  },
  {
   "cell_type": "code",
   "execution_count": null,
   "metadata": {},
   "outputs": [],
   "source": [
    "profile.update(\n",
    "    dtype=rasterio.uint8,\n",
    "    count=1,\n",
    "    transform=transform,\n",
    "    compress='lzw')\n",
    "\n",
    "with rasterio.open('resultados/0-VHM-sao-paulo-city-1m-8bits.tif', 'w', **profile) as dst:\n",
    "    dst.write(vhm, 1)"
   ]
  },
  {
   "cell_type": "code",
   "execution_count": 5,
   "metadata": {},
   "outputs": [
    {
     "data": {
      "text/plain": [
       "(94455, 140661)"
      ]
     },
     "execution_count": 5,
     "metadata": {},
     "output_type": "execute_result"
    }
   ],
   "source": [
    "w_scaled, h_scaled"
   ]
  },
  {
   "cell_type": "code",
   "execution_count": 6,
   "metadata": {},
   "outputs": [
    {
     "data": {
      "text/plain": [
       "(5, 8)"
      ]
     },
     "execution_count": 6,
     "metadata": {},
     "output_type": "execute_result"
    }
   ],
   "source": [
    "w_size, h_size"
   ]
  },
  {
   "cell_type": "code",
   "execution_count": 7,
   "metadata": {},
   "outputs": [],
   "source": [
    "vhm_temp = zarr.open(\n",
    "    '../tmp/bhm.zarr', \n",
    "    mode='w', \n",
    "    shape=(w_size*chunk_size, h_size*chunk_size), \n",
    "    chunks=(chunk_size,chunk_size), \n",
    "    dtype=np.float32\n",
    ")"
   ]
  },
  {
   "cell_type": "code",
   "execution_count": 8,
   "metadata": {},
   "outputs": [
    {
     "name": "stdout",
     "output_type": "stream",
     "text": [
      "0 0\n",
      "0 1\n",
      "0 2\n",
      "0 3\n",
      "0 4\n",
      "0 5\n",
      "0 6\n",
      "0 7\n",
      "1 0\n",
      "1 1\n",
      "1 2\n",
      "1 3\n",
      "1 4\n",
      "1 5\n",
      "1 6\n",
      "1 7\n",
      "2 0\n",
      "2 1\n",
      "2 2\n",
      "2 3\n",
      "2 4\n",
      "2 5\n",
      "2 6\n",
      "2 7\n",
      "3 0\n",
      "3 1\n",
      "3 2\n",
      "3 3\n",
      "3 4\n",
      "3 5\n",
      "3 6\n",
      "3 7\n",
      "4 0\n",
      "4 1\n",
      "4 2\n",
      "4 3\n",
      "4 4\n",
      "4 5\n",
      "4 6\n",
      "4 7\n"
     ]
    }
   ],
   "source": [
    "vhm = np.ones((src.count, chunk_size, chunk_size), dtype='float32')\n",
    "\n",
    "for w in range(w_size):\n",
    "    for h in range(h_size):\n",
    "        print(w,h)\n",
    "        \n",
    "        \n",
    "        w1 = (w+1)*chunk_size*upscale\n",
    "        h1 = (h+1)*chunk_size*upscale\n",
    "\n",
    "        # if w1 > w_scaled:\n",
    "        #     w1 = src.width\n",
    "\n",
    "        # if h1 > h_scaled:\n",
    "        #     h1 = src.height\n",
    "      \n",
    "        data = src.read(\n",
    "            # out_shape=(src.count, chunk_size, chunk_size),\n",
    "            out=vhm,\n",
    "            window=Window.from_slices(\n",
    "                slice(w*chunk_size*upscale, w1), \n",
    "                slice(h*chunk_size*upscale, h1)\n",
    "            ),\n",
    "            # resampling=Resampling.average,\n",
    "            boundless=True,\n",
    "            fill_value=0.\n",
    "        )\n",
    "\n",
    "        vhm_temp[w*chunk_size:w1//upscale, h*chunk_size:h1//upscale] = vhm[0]\n",
    "            "
   ]
  },
  {
   "cell_type": "code",
   "execution_count": null,
   "metadata": {},
   "outputs": [],
   "source": []
  },
  {
   "cell_type": "code",
   "execution_count": null,
   "metadata": {},
   "outputs": [],
   "source": []
  },
  {
   "cell_type": "code",
   "execution_count": null,
   "metadata": {},
   "outputs": [],
   "source": []
  },
  {
   "cell_type": "code",
   "execution_count": null,
   "metadata": {},
   "outputs": [],
   "source": []
  }
 ],
 "metadata": {
  "kernelspec": {
   "display_name": "Python 3.8.12 ('geo')",
   "language": "python",
   "name": "python3"
  },
  "language_info": {
   "codemirror_mode": {
    "name": "ipython",
    "version": 3
   },
   "file_extension": ".py",
   "mimetype": "text/x-python",
   "name": "python",
   "nbconvert_exporter": "python",
   "pygments_lexer": "ipython3",
   "version": "3.8.12"
  },
  "orig_nbformat": 4,
  "vscode": {
   "interpreter": {
    "hash": "9cedc55b3cbf3c6d99ff990673a8ddd4523edd6f7760ad30a6f7807a45845135"
   }
  }
 },
 "nbformat": 4,
 "nbformat_minor": 2
}
