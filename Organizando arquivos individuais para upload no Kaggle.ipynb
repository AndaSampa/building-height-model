{
 "cells": [
  {
   "cell_type": "code",
   "execution_count": 41,
   "metadata": {},
   "outputs": [],
   "source": [
    "import gdal\n",
    "import geopandas as gpd\n",
    "import glob\n",
    "import zipfile\n",
    "import os"
   ]
  },
  {
   "cell_type": "code",
   "execution_count": 5,
   "metadata": {},
   "outputs": [],
   "source": [
    "bhm_files = '/media/feromes/FEROMES/BHM'\n",
    "vhm_files = '/media/feromes/FEROMES/VHM'"
   ]
  },
  {
   "cell_type": "code",
   "execution_count": 6,
   "metadata": {},
   "outputs": [],
   "source": [
    "quadriculas = gpd.read_file('zip://GIS/SIRGAS_SHP_quadriculamdt.zip!SIRGAS_SHP_quadriculamdt')"
   ]
  },
  {
   "cell_type": "code",
   "execution_count": 12,
   "metadata": {},
   "outputs": [],
   "source": [
    "quadriculas.loc[: , 'scm_25000'] = quadriculas.qmdt_cod.str[:4]"
   ]
  },
  {
   "cell_type": "code",
   "execution_count": 34,
   "metadata": {},
   "outputs": [
    {
     "name": "stdout",
     "output_type": "stream",
     "text": [
      "Processando SCM: 3212 ...\n"
     ]
    }
   ],
   "source": [
    "for q in quadriculas.scm_25000.unique():\n",
    "    \n",
    "    print(f'Processando SCM: {q} ...')\n",
    "    translate_options = gdal.TranslateOptions(format='GTiff', creationOptions=['COMPRESS=LZW'])\n",
    "    bhms = glob.glob(f'{bhm_files}/BHM-{q}*.tif')\n",
    "    vhms = glob.glob(f'{vhm_files}/VHM-{q}*.tif')\n",
    "    \n",
    "    if len(bhms) > 0:\n",
    "        bhms_vrt = gdal.BuildVRT(f'{bhm_files}/BHM-0-merged-{q}.vrt', bhms)\n",
    "        gdal.Translate(f'{bhm_files}/BHM-0-merged-{q}.tif', bhms_vrt, options=translate_options)\n",
    "\n",
    "    if len(vhms) > 0:\n",
    "        vhms_vrt = gdal.BuildVRT(f'{vhm_files}/BHM-0-merged-{q}.vrt', vhms)\n",
    "        gdal.Translate(f'{vhm_files}/BHM-0-merged-{q}.tif', vhms_vrt, options=translate_options)\n",
    "\n",
    "    break"
   ]
  },
  {
   "cell_type": "code",
   "execution_count": null,
   "metadata": {},
   "outputs": [],
   "source": [
    "## TODO\n",
    "\n",
    "# Processar para a cidade toda\n",
    "# Zipar em pastas por scm_25000"
   ]
  },
  {
   "cell_type": "code",
   "execution_count": 50,
   "metadata": {},
   "outputs": [
    {
     "name": "stdout",
     "output_type": "stream",
     "text": [
      "Comprimindo SCM: 3212 ...\n"
     ]
    }
   ],
   "source": [
    "for q in quadriculas.scm_25000.unique():\n",
    "    print(f'Comprimindo SCM: {q} ...')\n",
    "    \n",
    "    try:\n",
    "        os.remove(f'{bhm_files}/{q}-BHM.zip')\n",
    "    except:\n",
    "        None\n",
    "\n",
    "    bhms = glob.glob(f'{bhm_files}/BHM*{q}*')\n",
    "    vhms = glob.glob(f'{vhm_files}/VHM*{q}*')\n",
    "    \n",
    "\n",
    "    with zipfile.ZipFile(f'{bhm_files}/{q}-BHM.zip', 'w') as myzip:\n",
    "        for f in bhms:\n",
    "            # myzip.write(f, f\"{q}\\\\/{f.split('/')[-1]}\", zipfile.ZIP_DEFLATED)\n",
    "            myzip.write(f, f\"{f.split('/')[-1]}\", zipfile.ZIP_DEFLATED)\n",
    "\n",
    "\n",
    "    break\n",
    "\n",
    "# z_file = zipfile.ZipFile(\"zip.zip\", \"w\" )\n",
    "# myZipFile.write(\"test.py\", \"dir\\\\test.py\", zipfile.ZIP_DEFLATED )"
   ]
  },
  {
   "cell_type": "code",
   "execution_count": null,
   "metadata": {},
   "outputs": [],
   "source": []
  }
 ],
 "metadata": {
  "interpreter": {
   "hash": "9cedc55b3cbf3c6d99ff990673a8ddd4523edd6f7760ad30a6f7807a45845135"
  },
  "kernelspec": {
   "display_name": "Python 3.8.12 ('geo')",
   "language": "python",
   "name": "python3"
  },
  "language_info": {
   "codemirror_mode": {
    "name": "ipython",
    "version": 3
   },
   "file_extension": ".py",
   "mimetype": "text/x-python",
   "name": "python",
   "nbconvert_exporter": "python",
   "pygments_lexer": "ipython3",
   "version": "3.8.12"
  },
  "orig_nbformat": 4
 },
 "nbformat": 4,
 "nbformat_minor": 2
}
