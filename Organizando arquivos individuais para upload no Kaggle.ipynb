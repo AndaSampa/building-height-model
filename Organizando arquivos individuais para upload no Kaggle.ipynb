{
 "cells": [
  {
   "cell_type": "code",
   "execution_count": 1,
   "metadata": {},
   "outputs": [],
   "source": [
    "from osgeo import gdal\n",
    "import geopandas as gpd\n",
    "import glob\n",
    "import zipfile\n",
    "import os"
   ]
  },
  {
   "cell_type": "code",
   "execution_count": 2,
   "metadata": {},
   "outputs": [],
   "source": [
    "bhm_files = 'processamentos/BHM'\n",
    "vhm_files = 'processamentos/VHM'"
   ]
  },
  {
   "cell_type": "code",
   "execution_count": 3,
   "metadata": {},
   "outputs": [],
   "source": [
    "quadriculas = gpd.read_file('zip://GIS/SIRGAS_SHP_quadriculamdt.zip!SIRGAS_SHP_quadriculamdt')"
   ]
  },
  {
   "cell_type": "code",
   "execution_count": 4,
   "metadata": {},
   "outputs": [],
   "source": [
    "quadriculas.loc[: , 'scm_25000'] = quadriculas.qmdt_cod.str[:4]"
   ]
  },
  {
   "cell_type": "code",
   "execution_count": 5,
   "metadata": {},
   "outputs": [
    {
     "name": "stdout",
     "output_type": "stream",
     "text": [
      "Processando SCM: 3212 ...\n",
      "Processando SCM: 3211 ...\n",
      "Processando SCM: 2242 ...\n",
      "Processando SCM: 3335 ...\n",
      "Processando SCM: 2346 ...\n",
      "Processando SCM: 3336 ...\n",
      "Processando SCM: 3213 ...\n",
      "Processando SCM: 2224 ...\n",
      "Processando SCM: 3215 ...\n",
      "Processando SCM: 3426 ...\n",
      "Processando SCM: 3425 ...\n",
      "Processando SCM: 3442 ...\n",
      "Processando SCM: 3441 ...\n",
      "Processando SCM: 2442 ...\n",
      "Processando SCM: 3431 ...\n",
      "Processando SCM: 2441 ...\n",
      "Processando SCM: 3432 ...\n",
      "Processando SCM: 3443 ...\n",
      "Processando SCM: 3434 ...\n",
      "Processando SCM: 3433 ...\n",
      "Processando SCM: 2444 ...\n",
      "Processando SCM: 2443 ...\n",
      "Processando SCM: 3445 ...\n",
      "Processando SCM: 3436 ...\n",
      "Processando SCM: 3435 ...\n",
      "Processando SCM: 2446 ...\n",
      "Processando SCM: 4436 ...\n",
      "Processando SCM: 3446 ...\n",
      "Processando SCM: 4435 ...\n",
      "Processando SCM: 4445 ...\n",
      "Processando SCM: 4321 ...\n",
      "Processando SCM: 4312 ...\n",
      "Processando SCM: 4311 ...\n",
      "Processando SCM: 3322 ...\n",
      "Processando SCM: 3321 ...\n",
      "Processando SCM: 3312 ...\n",
      "Processando SCM: 3311 ...\n",
      "Processando SCM: 2322 ...\n",
      "Processando SCM: 4314 ...\n",
      "Processando SCM: 4313 ...\n",
      "Processando SCM: 3324 ...\n",
      "Processando SCM: 3323 ...\n",
      "Processando SCM: 3314 ...\n",
      "Processando SCM: 3313 ...\n",
      "Processando SCM: 2324 ...\n",
      "Processando SCM: 4316 ...\n",
      "Processando SCM: 4315 ...\n",
      "Processando SCM: 3326 ...\n",
      "Processando SCM: 3325 ...\n",
      "Processando SCM: 3316 ...\n",
      "Processando SCM: 3315 ...\n",
      "Processando SCM: 2326 ...\n",
      "Processando SCM: 4332 ...\n",
      "Processando SCM: 4331 ...\n",
      "Processando SCM: 3342 ...\n",
      "Processando SCM: 3341 ...\n",
      "Processando SCM: 3332 ...\n",
      "Processando SCM: 3331 ...\n",
      "Processando SCM: 2342 ...\n",
      "Processando SCM: 3334 ...\n",
      "Processando SCM: 3333 ...\n",
      "Processando SCM: 2344 ...\n",
      "Processando SCM: 3343 ...\n",
      "Processando SCM: 3345 ...\n",
      "Processando SCM: 2244 ...\n",
      "Processando SCM: 2222 ...\n",
      "Processando SCM: 2226 ...\n",
      "Processando SCM: 3243 ...\n",
      "Processando SCM: 3245 ...\n",
      "Processando SCM: 3234 ...\n",
      "Processando SCM: 3236 ...\n",
      "Processando SCM: 3112 ...\n",
      "Processando SCM: 3233 ...\n",
      "Processando SCM: 3235 ...\n",
      "Processando SCM: 2246 ...\n",
      "Processando SCM: 2122 ...\n",
      "Processando SCM: 3231 ...\n",
      "Processando SCM: 3216 ...\n",
      "Processando SCM: 3214 ...\n",
      "Processando SCM: 3225 ...\n",
      "Processando SCM: 3241 ...\n",
      "Processando SCM: 3232 ...\n"
     ]
    }
   ],
   "source": [
    "for q in quadriculas.scm_25000.unique():\n",
    "    \n",
    "    print(f'Processando SCM: {q} ...')\n",
    "    translate_options = gdal.TranslateOptions(format='GTiff', creationOptions=['COMPRESS=LZW'])\n",
    "    bhms = glob.glob(f'{bhm_files}/BHM-{q}*.tif')\n",
    "    vhms = glob.glob(f'{vhm_files}/VHM-{q}*.tif')\n",
    "    \n",
    "    if len(bhms) > 0:\n",
    "        bhms_vrt = gdal.BuildVRT(f'{bhm_files}/BHM-0-merged-{q}.vrt', bhms)\n",
    "        gdal.Translate(f'{bhm_files}/BHM-0-merged-{q}.tif', bhms_vrt, options=translate_options)\n",
    "\n",
    "    if len(vhms) > 0:\n",
    "        vhms_vrt = gdal.BuildVRT(f'{vhm_files}/VHM-0-merged-{q}.vrt', vhms)\n",
    "        gdal.Translate(f'{vhm_files}/VHM-0-merged-{q}.tif', vhms_vrt, options=translate_options)\n",
    "\n",
    "    # break"
   ]
  },
  {
   "cell_type": "code",
   "execution_count": 6,
   "metadata": {},
   "outputs": [],
   "source": [
    "# Processar para toda a cidade\n",
    "\n",
    "translate_options = gdal.TranslateOptions(format='GTiff', creationOptions=['COMPRESS=LZW', 'BIGTIFF=YES'])"
   ]
  },
  {
   "cell_type": "code",
   "execution_count": 7,
   "metadata": {},
   "outputs": [
    {
     "data": {
      "text/plain": [
       "<osgeo.gdal.Dataset; proxy of <Swig Object of type 'GDALDatasetShadow *' at 0x7fd60cfc29d0> >"
      ]
     },
     "execution_count": 7,
     "metadata": {},
     "output_type": "execute_result"
    }
   ],
   "source": [
    "bhm_all = glob.glob(f'{bhm_files}/BHM-0-merged-*.tif')\n",
    "\n",
    "bhms_vrt = gdal.BuildVRT(f'{bhm_files}/0-BHM-sao-paulo-city-all.vrt', bhm_all)\n",
    "gdal.Translate(f'{bhm_files}/0-BHM-sao-paulo-city-all.tif', bhms_vrt, options=translate_options)"
   ]
  },
  {
   "cell_type": "code",
   "execution_count": 8,
   "metadata": {},
   "outputs": [
    {
     "data": {
      "text/plain": [
       "<osgeo.gdal.Dataset; proxy of <Swig Object of type 'GDALDatasetShadow *' at 0x7fd6983801b0> >"
      ]
     },
     "execution_count": 8,
     "metadata": {},
     "output_type": "execute_result"
    }
   ],
   "source": [
    "vhm_all = glob.glob(f'{vhm_files}/VHM-0-merged-*.tif')\n",
    "\n",
    "vhms_vrt = gdal.BuildVRT(f'{vhm_files}/0-VHM-sao-paulo-city-all.vrt', vhm_all)\n",
    "gdal.Translate(f'{vhm_files}/0-VHM-sao-paulo-city-all.tif', vhms_vrt, options=translate_options)"
   ]
  },
  {
   "cell_type": "code",
   "execution_count": 9,
   "metadata": {},
   "outputs": [
    {
     "name": "stdout",
     "output_type": "stream",
     "text": [
      "Comprimindo SCM: 3212 ...\n",
      "Comprimindo SCM: 3211 ...\n",
      "Comprimindo SCM: 2242 ...\n",
      "Comprimindo SCM: 3335 ...\n",
      "Comprimindo SCM: 2346 ...\n",
      "Comprimindo SCM: 3336 ...\n",
      "Comprimindo SCM: 3213 ...\n",
      "Comprimindo SCM: 2224 ...\n",
      "Comprimindo SCM: 3215 ...\n",
      "Comprimindo SCM: 3426 ...\n",
      "Comprimindo SCM: 3425 ...\n",
      "Comprimindo SCM: 3442 ...\n",
      "Comprimindo SCM: 3441 ...\n",
      "Comprimindo SCM: 2442 ...\n",
      "Comprimindo SCM: 3431 ...\n",
      "Comprimindo SCM: 2441 ...\n",
      "Comprimindo SCM: 3432 ...\n",
      "Comprimindo SCM: 3443 ...\n",
      "Comprimindo SCM: 3434 ...\n",
      "Comprimindo SCM: 3433 ...\n",
      "Comprimindo SCM: 2444 ...\n",
      "Comprimindo SCM: 2443 ...\n",
      "Comprimindo SCM: 3445 ...\n",
      "Comprimindo SCM: 3436 ...\n",
      "Comprimindo SCM: 3435 ...\n",
      "Comprimindo SCM: 2446 ...\n",
      "Comprimindo SCM: 4436 ...\n",
      "Comprimindo SCM: 3446 ...\n",
      "Comprimindo SCM: 4435 ...\n",
      "Comprimindo SCM: 4445 ...\n",
      "Comprimindo SCM: 4321 ...\n",
      "Comprimindo SCM: 4312 ...\n",
      "Comprimindo SCM: 4311 ...\n",
      "Comprimindo SCM: 3322 ...\n",
      "Comprimindo SCM: 3321 ...\n",
      "Comprimindo SCM: 3312 ...\n",
      "Comprimindo SCM: 3311 ...\n",
      "Comprimindo SCM: 2322 ...\n",
      "Comprimindo SCM: 4314 ...\n",
      "Comprimindo SCM: 4313 ...\n",
      "Comprimindo SCM: 3324 ...\n",
      "Comprimindo SCM: 3323 ...\n",
      "Comprimindo SCM: 3314 ...\n",
      "Comprimindo SCM: 3313 ...\n",
      "Comprimindo SCM: 2324 ...\n",
      "Comprimindo SCM: 4316 ...\n",
      "Comprimindo SCM: 4315 ...\n",
      "Comprimindo SCM: 3326 ...\n",
      "Comprimindo SCM: 3325 ...\n",
      "Comprimindo SCM: 3316 ...\n",
      "Comprimindo SCM: 3315 ...\n",
      "Comprimindo SCM: 2326 ...\n",
      "Comprimindo SCM: 4332 ...\n",
      "Comprimindo SCM: 4331 ...\n",
      "Comprimindo SCM: 3342 ...\n",
      "Comprimindo SCM: 3341 ...\n",
      "Comprimindo SCM: 3332 ...\n",
      "Comprimindo SCM: 3331 ...\n",
      "Comprimindo SCM: 2342 ...\n",
      "Comprimindo SCM: 3334 ...\n",
      "Comprimindo SCM: 3333 ...\n",
      "Comprimindo SCM: 2344 ...\n",
      "Comprimindo SCM: 3343 ...\n",
      "Comprimindo SCM: 3345 ...\n",
      "Comprimindo SCM: 2244 ...\n",
      "Comprimindo SCM: 2222 ...\n",
      "Comprimindo SCM: 2226 ...\n",
      "Comprimindo SCM: 3243 ...\n",
      "Comprimindo SCM: 3245 ...\n",
      "Comprimindo SCM: 3234 ...\n",
      "Comprimindo SCM: 3236 ...\n",
      "Comprimindo SCM: 3112 ...\n",
      "Comprimindo SCM: 3233 ...\n",
      "Comprimindo SCM: 3235 ...\n",
      "Comprimindo SCM: 2246 ...\n",
      "Comprimindo SCM: 2122 ...\n",
      "Comprimindo SCM: 3231 ...\n",
      "Comprimindo SCM: 3216 ...\n",
      "Comprimindo SCM: 3214 ...\n",
      "Comprimindo SCM: 3225 ...\n",
      "Comprimindo SCM: 3241 ...\n",
      "Comprimindo SCM: 3232 ...\n"
     ]
    }
   ],
   "source": [
    "for q in quadriculas.scm_25000.unique():\n",
    "    print(f'Comprimindo SCM: {q} ...')\n",
    "    \n",
    "    try:\n",
    "        os.remove(f'{bhm_files}/{q}-BHM.zip')\n",
    "    except:\n",
    "        None\n",
    "\n",
    "    bhms = glob.glob(f'{bhm_files}/BHM*{q}*')\n",
    "    vhms = glob.glob(f'{vhm_files}/VHM*{q}*')\n",
    "    \n",
    "    with zipfile.ZipFile(f'{bhm_files}/{q}-BHM.zip', 'w') as myzip:\n",
    "        for f in bhms:\n",
    "            # myzip.write(f, f\"{q}\\\\/{f.split('/')[-1]}\", zipfile.ZIP_DEFLATED)\n",
    "            myzip.write(f, f\"{f.split('/')[-1]}\", zipfile.ZIP_DEFLATED)\n",
    "\n",
    "    with zipfile.ZipFile(f'{vhm_files}/{q}-VHM.zip', 'w') as myzip:\n",
    "        for f in vhms:\n",
    "            # myzip.write(f, f\"{q}\\\\/{f.split('/')[-1]}\", zipfile.ZIP_DEFLATED)\n",
    "            myzip.write(f, f\"{f.split('/')[-1]}\", zipfile.ZIP_DEFLATED)\n",
    "\n",
    "    # break\n",
    "\n",
    "# z_file = zipfile.ZipFile(\"zip.zip\", \"w\" )\n",
    "# myZipFile.write(\"test.py\", \"dir\\\\test.py\", zipfile.ZIP_DEFLATED )"
   ]
  },
  {
   "cell_type": "code",
   "execution_count": null,
   "metadata": {},
   "outputs": [],
   "source": []
  }
 ],
 "metadata": {
  "kernelspec": {
   "display_name": "Python 3.10.5 ('pdal')",
   "language": "python",
   "name": "python3"
  },
  "language_info": {
   "codemirror_mode": {
    "name": "ipython",
    "version": 3
   },
   "file_extension": ".py",
   "mimetype": "text/x-python",
   "name": "python",
   "nbconvert_exporter": "python",
   "pygments_lexer": "ipython3",
   "version": "3.10.5"
  },
  "orig_nbformat": 4,
  "vscode": {
   "interpreter": {
    "hash": "027d68a34853f71565e4a96b63495abeb2c2b2a6edb7ee9ffc729c9e3d18db7f"
   }
  }
 },
 "nbformat": 4,
 "nbformat_minor": 2
}
