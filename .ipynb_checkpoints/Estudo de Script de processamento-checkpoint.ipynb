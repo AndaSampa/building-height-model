{
 "cells": [
  {
   "cell_type": "code",
   "execution_count": 1,
   "metadata": {},
   "outputs": [
    {
     "name": "stderr",
     "output_type": "stream",
     "text": [
      "/home/fernando/miniconda3/envs/pdal/lib/python3.8/site-packages/geopandas/geodataframe.py:422: RuntimeWarning: Sequential read of iterator was interrupted. Resetting iterator. This can negatively impact the performance.\n",
      "  for feature in features_lst:\n"
     ]
    }
   ],
   "source": [
    "import pdal\n",
    "import json\n",
    "import geopandas as gpd\n",
    "import os.path\n",
    "\n",
    "gdf_articulacao = gpd.read_file('resultados/articulacao.gpkg')"
   ]
  },
  {
   "cell_type": "code",
   "execution_count": 2,
   "metadata": {},
   "outputs": [],
   "source": [
    "pipeline = [\n",
    "    {\n",
    "      \"type\": \"readers.ept\",\n",
    "      \"filename\": \"https://ept-m3dc-pmsp.s3-sa-east-1.amazonaws.com/ept.json\",\n",
    "      \"bounds\": \"([336660.93307649984, 337183.60933703714], [7386487.347629301, 7393537.052770114])\",\n",
    "      \"threads\": 8,\n",
    "      \"resolution\": 4\n",
    "    },\n",
    "    {\n",
    "        \"type\":\"filters.range\",\n",
    "        \"limits\":\"UserData[0:255],Classification[6:6]\"\n",
    "    },\n",
    "    {\n",
    "        \"type\":\"filters.ferry\",\n",
    "        \"dimensions\":\"UserData => Z\"\n",
    "    },\n",
    "    {\n",
    "        \"filename\":\"./resultados/edificacoes.gpkg\",\n",
    "        \"gdaldriver\":\"GPKG\",\n",
    "        \"output_type\":\"max\",\n",
    "        \"resolution\":\"1.0\",\n",
    "        \"nodata\":\"0\",\n",
    "        \"data_type\": \"uint8\",\n",
    "        \"type\": \"writers.gdal\"\n",
    "    },\n",
    "    {\n",
    "        \"filename\":\"./resultados/edificacoes.tif\",\n",
    "        \"gdaldriver\":\"GTiff\",\n",
    "        \"output_type\":\"max\",\n",
    "        \"resolution\":\"1.0\",\n",
    "        \"nodata\":\"0\",\n",
    "        \"data_type\": \"uint8\",\n",
    "        \"type\": \"writers.gdal\"\n",
    "    }\n",
    "]"
   ]
  },
  {
   "cell_type": "code",
   "execution_count": 3,
   "metadata": {},
   "outputs": [],
   "source": [
    "pipeline[0]['bounds'] = '([0,0], [0,0])'"
   ]
  },
  {
   "cell_type": "code",
   "execution_count": 4,
   "metadata": {},
   "outputs": [
    {
     "data": {
      "text/plain": [
       "[{'type': 'readers.ept',\n",
       "  'filename': 'https://ept-m3dc-pmsp.s3-sa-east-1.amazonaws.com/ept.json',\n",
       "  'bounds': '([0,0], [0,0])',\n",
       "  'threads': 8,\n",
       "  'resolution': 4},\n",
       " {'type': 'filters.range', 'limits': 'UserData[0:255],Classification[6:6]'},\n",
       " {'type': 'filters.ferry', 'dimensions': 'UserData => Z'},\n",
       " {'filename': './resultados/edificacoes.gpkg',\n",
       "  'gdaldriver': 'GPKG',\n",
       "  'output_type': 'max',\n",
       "  'resolution': '1.0',\n",
       "  'nodata': '0',\n",
       "  'data_type': 'uint8',\n",
       "  'type': 'writers.gdal'},\n",
       " {'filename': './resultados/edificacoes.tif',\n",
       "  'gdaldriver': 'GTiff',\n",
       "  'output_type': 'max',\n",
       "  'resolution': '1.0',\n",
       "  'nodata': '0',\n",
       "  'data_type': 'uint8',\n",
       "  'type': 'writers.gdal'}]"
      ]
     },
     "execution_count": 4,
     "metadata": {},
     "output_type": "execute_result"
    }
   ],
   "source": [
    "pipeline"
   ]
  },
  {
   "cell_type": "code",
   "execution_count": 5,
   "metadata": {},
   "outputs": [
    {
     "name": "stdout",
     "output_type": "stream",
     "text": [
      "BHM-02.gpkg já existe!\n",
      "BHM-03.gpkg já existe!\n",
      "BHM-04.gpkg já existe!\n",
      "BHM-05.gpkg já existe!\n",
      "BHM-06.gpkg já existe!\n",
      "BHM-01.gpkg já existe!\n",
      "BHM-07.gpkg já existe!\n",
      "BHM-08.gpkg já existe!\n",
      "BHM-09.gpkg já existe!\n",
      "BHM-10.gpkg já existe!\n",
      "BHM-11.gpkg já existe!\n",
      "[{'type': 'readers.ept', 'filename': 'https://ept-m3dc-pmsp.s3-sa-east-1.amazonaws.com/ept.json', 'bounds': '([325196.8026283088, 337003.9343208949], [7404087.429682808, 7416156.351973848])', 'threads': 8, 'resolution': 4}, {'type': 'filters.range', 'limits': 'UserData[0:255],Classification[6:6]'}, {'type': 'filters.ferry', 'dimensions': 'UserData => Z'}, {'filename': './resultados/BHM-12.tif', 'gdaldriver': 'GPKG', 'output_type': 'max', 'resolution': '1.0', 'nodata': '0', 'data_type': 'uint8', 'type': 'writers.gdal'}, {'filename': './resultados/edificacoes.tif', 'gdaldriver': 'GTiff', 'output_type': 'max', 'resolution': '1.0', 'nodata': '0', 'data_type': 'uint8', 'type': 'writers.gdal'}]\n",
      "BHM-18.gpkg já existe!\n",
      "BHM-17.gpkg já existe!\n",
      "BHM-16.gpkg já existe!\n",
      "BHM-22.gpkg já existe!\n",
      "BHM-23.gpkg já existe!\n"
     ]
    }
   ],
   "source": [
    "for index, quadricula in gdf_articulacao.iterrows():\n",
    "    \n",
    "    if os.path.isfile(f'./resultados/BHM-{quadricula.nome}.gpkg'):\n",
    "        print(f'BHM-{quadricula.nome}.gpkg já existe!')\n",
    "    else:\n",
    "        xmin, ymin, xmax, ymax = quadricula.geometry.bounds\n",
    "        pipeline[0]['bounds'] = f'([{xmin}, {xmax}], [{ymin}, {ymax}])'\n",
    "        pipeline[3]['filename'] = f'./resultados/BHM-{quadricula.nome}.gpkg'\n",
    "        pipeline[3]['filename'] = f'./resultados/BHM-{quadricula.nome}.tif'\n",
    "        \n",
    "        pdal_pipeline = pdal.Pipeline(json.dumps(pipeline))\n",
    "        pdal_pipeline.validate()\n",
    "        \n",
    "#         pdal_pipeline.execute()\n",
    "        \n",
    "        print(pipeline)"
   ]
  },
  {
   "cell_type": "code",
   "execution_count": null,
   "metadata": {},
   "outputs": [],
   "source": []
  }
 ],
 "metadata": {
  "kernelspec": {
   "display_name": "Python 3",
   "language": "python",
   "name": "python3"
  },
  "language_info": {
   "codemirror_mode": {
    "name": "ipython",
    "version": 3
   },
   "file_extension": ".py",
   "mimetype": "text/x-python",
   "name": "python",
   "nbconvert_exporter": "python",
   "pygments_lexer": "ipython3",
   "version": "3.8.6"
  }
 },
 "nbformat": 4,
 "nbformat_minor": 4
}
