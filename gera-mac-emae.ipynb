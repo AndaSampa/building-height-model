{
 "cells": [
  {
   "cell_type": "code",
   "execution_count": 1,
   "metadata": {},
   "outputs": [],
   "source": [
    "import rioxarray\n",
    "import geopandas as gpd"
   ]
  },
  {
   "cell_type": "code",
   "execution_count": 6,
   "metadata": {},
   "outputs": [],
   "source": [
    "gdf_articulacao = gpd.read_file('resultados/articulacao.gpkg')\n",
    "quadriculas = gpd.read_file('zip://GIS/SIRGAS_SHP_quadriculamdt.zip!SIRGAS_SHP_quadriculamdt')\n",
    "quadriculas.loc[: , 'scm_25000'] = quadriculas.qmdt_cod.str[:4]"
   ]
  },
  {
   "cell_type": "code",
   "execution_count": 8,
   "metadata": {},
   "outputs": [
    {
     "data": {
      "text/plain": [
       "82"
      ]
     },
     "execution_count": 8,
     "metadata": {},
     "output_type": "execute_result"
    }
   ],
   "source": [
    "len(quadriculas.scm_25000.unique())"
   ]
  },
  {
   "cell_type": "code",
   "execution_count": null,
   "metadata": {},
   "outputs": [],
   "source": [
    "## TODO\n",
    "# REduzir resolucao espacial para 1m\n",
    "# Reduzir precisao para 16bits\n",
    "# Separar por distritos e SCM 25000\n",
    "# https://carpentries-incubator.github.io/geospatial-python/20-crop-raster-data/index.html"
   ]
  }
 ],
 "metadata": {
  "kernelspec": {
   "display_name": "Python 3.10.5 ('pdal')",
   "language": "python",
   "name": "python3"
  },
  "language_info": {
   "codemirror_mode": {
    "name": "ipython",
    "version": 3
   },
   "file_extension": ".py",
   "mimetype": "text/x-python",
   "name": "python",
   "nbconvert_exporter": "python",
   "pygments_lexer": "ipython3",
   "version": "3.10.5"
  },
  "orig_nbformat": 4,
  "vscode": {
   "interpreter": {
    "hash": "027d68a34853f71565e4a96b63495abeb2c2b2a6edb7ee9ffc729c9e3d18db7f"
   }
  }
 },
 "nbformat": 4,
 "nbformat_minor": 2
}
