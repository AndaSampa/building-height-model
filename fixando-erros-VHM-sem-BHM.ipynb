{
 "cells": [
  {
   "cell_type": "code",
   "execution_count": 27,
   "metadata": {},
   "outputs": [],
   "source": [
    "import pdal \n",
    "import numpy as np\n",
    "import json\n",
    "import geopandas as gpd\n",
    "import sys\n",
    "from os.path import exists"
   ]
  },
  {
   "cell_type": "code",
   "execution_count": 28,
   "metadata": {},
   "outputs": [],
   "source": [
    "pipeline=[\n",
    "    {\n",
    "        \"type\": \"readers.las\",\n",
    "        \"filename\": \"https://laz-m3dc-pmsp.s3-sa-east-1.amazonaws.com/MDS_color_3213-362.laz\"\n",
    "    },\n",
    "    {\n",
    "        \"type\":\"filters.range\",\n",
    "        \"limits\":\"Classification[5:6]\"\n",
    "    },\n",
    "    {\n",
    "        \"type\":\"filters.hag_dem\",\n",
    "        \"raster\": \"/home/fernando/dev/svfpy/data/raster/MDT_sampa-ZSTD.tif\"\n",
    "    },\n",
    "    {\n",
    "        \"type\":\"filters.ferry\",\n",
    "        \"dimensions\":\"HeightAboveGround => Z\"\n",
    "    },\n",
    "    {\n",
    "        \"filename\":\"processamentos/BHM-3213-362.tif\",\n",
    "        \"gdaldriver\":\"GTiff\",\n",
    "        \"output_type\":\"mean\",\n",
    "        \"resolution\":\"0.5\",\n",
    "        \"nodata\":\"0\",\n",
    "        \"data_type\": \"float32\",\n",
    "        \"type\": \"writers.gdal\",\n",
    "        \"where\": \"(Classification == 6)\",\n",
    "        \"override_srs\": \"EPSG:31983\"\n",
    "    },\n",
    "    {\n",
    "        \"filename\":\"processamentos/VHM-3213-362.tif\",\n",
    "        \"gdaldriver\":\"GTiff\",\n",
    "        \"output_type\":\"mean\",\n",
    "        \"resolution\":\"0.5\",\n",
    "        \"nodata\":\"0\",\n",
    "        \"data_type\": \"float32\",\n",
    "        \"type\": \"writers.gdal\",\n",
    "        \"where\": \"(Classification == 5)\",\n",
    "        \"override_srs\": \"EPSG:31983\"\n",
    "    }\n",
    "  ]"
   ]
  },
  {
   "cell_type": "code",
   "execution_count": 32,
   "metadata": {},
   "outputs": [
    {
     "data": {
      "text/plain": [
       "[{'type': 'readers.las',\n",
       "  'filename': 'https://laz-m3dc-pmsp.s3-sa-east-1.amazonaws.com/MDS_color_3213-362.laz'},\n",
       " {'type': 'filters.range', 'limits': 'Classification[5:6]'},\n",
       " {'type': 'filters.hag_dem',\n",
       "  'raster': '/home/fernando/dev/svfpy/data/raster/MDT_sampa-ZSTD.tif'},\n",
       " {'type': 'filters.ferry', 'dimensions': 'HeightAboveGround => Z'},\n",
       " {'filename': 'processamentos/VHM-3213-362.tif',\n",
       "  'gdaldriver': 'GTiff',\n",
       "  'output_type': 'mean',\n",
       "  'resolution': '0.5',\n",
       "  'nodata': '0',\n",
       "  'data_type': 'float32',\n",
       "  'type': 'writers.gdal',\n",
       "  'where': '(Classification == 5)',\n",
       "  'override_srs': 'EPSG:31983'}]"
      ]
     },
     "execution_count": 32,
     "metadata": {},
     "output_type": "execute_result"
    }
   ],
   "source": [
    "del pipeline[4]\n",
    "pipeline"
   ]
  },
  {
   "cell_type": "code",
   "execution_count": 25,
   "metadata": {},
   "outputs": [],
   "source": [
    "pdal_pipeline = pdal.Pipeline(json.dumps(pipeline))"
   ]
  },
  {
   "cell_type": "code",
   "execution_count": 26,
   "metadata": {},
   "outputs": [
    {
     "data": {
      "text/plain": [
       "2763896"
      ]
     },
     "execution_count": 26,
     "metadata": {},
     "output_type": "execute_result"
    }
   ],
   "source": [
    "pdal_pipeline.execute()"
   ]
  },
  {
   "cell_type": "code",
   "execution_count": null,
   "metadata": {},
   "outputs": [],
   "source": []
  }
 ],
 "metadata": {
  "kernelspec": {
   "display_name": "Python 3.10.5 ('pdal')",
   "language": "python",
   "name": "python3"
  },
  "language_info": {
   "codemirror_mode": {
    "name": "ipython",
    "version": 3
   },
   "file_extension": ".py",
   "mimetype": "text/x-python",
   "name": "python",
   "nbconvert_exporter": "python",
   "pygments_lexer": "ipython3",
   "version": "3.10.5"
  },
  "orig_nbformat": 4,
  "vscode": {
   "interpreter": {
    "hash": "027d68a34853f71565e4a96b63495abeb2c2b2a6edb7ee9ffc729c9e3d18db7f"
   }
  }
 },
 "nbformat": 4,
 "nbformat_minor": 2
}
